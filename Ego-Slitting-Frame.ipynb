using LightGraphs
using GraphPlot
using Plots

# Create a small graph for testing
G0 = Graph(11)
add_edge!(G0, 1, 2)
add_edge!(G0, 1, 3)
add_edge!(G0, 1, 5)
add_edge!(G0, 1, 7)
add_edge!(G0, 1, 8)
add_edge!(G0, 1, 9)
add_edge!(G0, 2, 3)
add_edge!(G0, 2, 5)
add_edge!(G0, 2, 6)
add_edge!(G0, 3, 4)
add_edge!(G0, 3, 5)
add_edge!(G0, 3, 6)
add_edge!(G0, 4, 5)
add_edge!(G0, 4, 10)
add_edge!(G0, 4, 11)
add_edge!(G0, 5, 6)
add_edge!(G0, 6, 7)
add_edge!(G0, 6, 8)
add_edge!(G0, 6, 9)
add_edge!(G0, 7, 8)
add_edge!(G0, 7, 9)
add_edge!(G0, 8, 9)
add_edge!(G0, 8, 10)
add_edge!(G0, 9, 10)
add_edge!(G0, 10, 11)

# Plot the small graph 
gplot(G0, nodelabel=1:nv(G0))

# --------------------------------------------------------------------------------------------
# -----------------------Function that ego split the original grpah---------------------------
# --------------------------------------------------------------------------------------------

# Input : LightGraphs; Output : Modified LightGraphs (bigger and most likely have more connected components)



function EgoSF(G0::LightGraphs.SimpleGraphs.SimpleGraph)           # EgoSF: Ego-splitting-Frame
    for node =1:nv(G0)                                             # for each node
        nb=inneighbors(G0, node)                                   # neighbors of node 
#         println("Vertex $node => Neighbors: $nb.") 
        A,B=induced_subgraph(G0, nb)                               # subgraph only contain neighbors of node 
#         gplot(A,nodelabel=nb)
        envn=size(nb, 1)                                           # ego-net vertex number
        tempnode=[n for n in 1:envn]                               # correspondent with tempG
        tempdict=Dict(tempnode[i] => nb[i] for i =1:envn)          # use Dict to link with tempG. Record the original node number. In case of further needs.
#         println("tempdict: $tempdict")

        ccnum=size(connected_components(A),1)                       # get connected components number
        cc=connected_components(A)                                  # get connected component

        if ccnum!=1                                                 # when more than 1 connnected component
            for i =1:ccnum                                          # each cc
                add_vertex!(G0)                                     # create new node for this connected component
                cur_n=nv(G0)                                        # current node number
                for j in cc[i]                                      # for each node in this connected component    
#                     println(tempdict[j])
                    add_edge!(G0,cur_n,tempdict[j])                 # link connected component nodes to new node
                end
            end

#             println("Add vertex!")
            rem_vertex!(G0,node)                                    # delete the original node
        else                                                        #  do nothing 
#             println("Dont add vertex!")
        end 
    end
end

@time EgoSF(G0)
gplot(G0,nodelabel=1:nv(G0))


# ----------------------------------------------------------------
# ----------------------- CSC to LightGraph-----------------------
# ----------------------------------------------------------------

# suppose have the graph in CSC which is really common way to save a big graph


using LightGraphs
function CSC2LG(A::SparseMatrixCSC)::LightGraphs.SimpleGraphs.SimpleGraph
    
    colnum = A.n
    ret= Graph(colnum)
#     println("colnum: ",colnum)

#     valnum = size(A.nzval,1)
#     println("valnum: ",valnum) 
    for i = 1:colnum  #current column
#         println("col: ",i)
#         println("A.colptr[i]: ",A.colptr[i])
        for j = A.colptr[i] : A.colptr[i+1]-1
#             println("row: ",A.rowval[j])
            add_edge!(ret, i, A.rowval[j])
        end
    end
    
    return ret
end





#Test fro large Graph DBLP

using MAT
file = matopen("/Users/ace/Desktop/Summer_Research/Ego-splitting-in-Julia/dblp.mat")
Matfile=read(file)
close(file)
bigg=Matfile["A"]
# println(typeof(A))
# println(Matfile["A"]) # A is a name of disc of Matfile where have all the info
println(typeof(bigg)) #SparseMatrixCSC{Float64,Int64}
# [I,J,V]=findnz(A)
# println(A)

println(size(bigg.nzval,1))
println(bigg.m)
println(typeof(blg))
@time blg=CSC2LG(bigg)

@time EgoSF(blg)

#### Meng's Advice
#Using larger graph inceasing (vertex#，edge#), find the relationg betweeen time & node# / edge#
#Use Laboratory for web algorithmics find graph，save(.graph,.offsets,.properties) in /Users/ace/Desktop/libbvg-master/data
#In path: /Users/ace/Desktop/libbvg-master run./bvgraph2smat data/harvard500 -f smat
#get a .smat file which is a adj-list
#use .smat file draw a new LightGraphs
#In terminal run : ./bvgraph2smat data/harvard500 -f smat

### FB-ONE

using MAT
file = matopen("/Users/ace/Desktop/dataset/fb-one.mat")
Matfile=read(file)
close(file)
fbone=Matfile["A"]
println(typeof(fbone)) #SparseMatrixCSC{Float64,Int64}
println(size(fbone.nzval,1))
println(fbone.m)

@time fboneG=CSC2LG(fbone)
typeof(fboneG)
@time EgoSF(fboneG)

### FBA

using MAT
file = matopen("/Users/ace/Desktop/dataset/hollywood-2009.mat")
Matfile=read(file)
close(file)
hol=Matfile["A"]
println(typeof(hol)) #SparseMatrixCSC{Float64,Int64}
println(size(hol.nzval,1))
println(hol.m)
@time holG=CSC2LG(hol)
println(typeof(holG))
@time EgoSF(holG)                                      # Graph contain so many edges, cann't finish in 20 minutes


###Computing Time Analysis
# [G0, harvard500, dblp, fb-one, fba]

tcsc2lg = [0, 0.165771,1.891642, 16.710139, 59.507416 ]
tegosf = [0.000239, 0.410712,8.426979, 159.327961, 2000  ]
ttotal = [0.000239, 0.410712+0.16577,8.426979+1.891642, 16.710139+159.327961,3000 ]
ne = [25,1916,716460, 4404989, 56375711]
nv = [11,500,226413, 1138557, 1181395]

gr()
# We put labels in a row vector: applies to each series
labels = ["Prepare" "Ego-Split" "Total" ]

# Marker shapes in a column vector: applies to data points
markershapes = [:circle, :star5]

# Marker colors in a matrix: applies to series and data points
markercolors = [:green :orange :purple]
data = [tcsc2lg tegosf ttotal]
plot(ne, data, label = labels, shape = markershapes, color = markercolors,
     markersize = 4)
# plot(nv, data, label = labels, shape = markershapes, color = markercolors,
#      markersize = 3)


# [G0, harvard500, dblp, fb-one, fba]

tcsc2lg = [0, 0.165771,1.891642, 16.710139, 59.507416 ]
tegosf = [0.000239, 0.410712,8.426979, 159.327961, 2000  ]
ttotal = [0.000239, 0.410712+0.16577,8.426979+1.891642, 16.710139+159.327961,3000 ]
ne = [25,1916,716460, 4404989, 56375711]
nv = [11,500,226413, 1138557, 1181395]

gr()
# We put labels in a row vector: applies to each series
labels = ["Prepare" "Ego-Split" "Total" ]

# Marker shapes in a column vector: applies to data points
markershapes = [:circle, :star5]

# Marker colors in a matrix: applies to series and data points
markercolors = [:green :orange :purple]
data = [tcsc2lg tegosf ttotal]
# plot(ne, data, label = labels, shape = markershapes, color = markercolors,
#      markersize = 1)
plot(nv, data, label = labels, shape = markershapes, color = markercolors,
     markersize = 3)
     
### Conclusion
#It seems that the algorithm is linear to number of edges


## Tansfer .smat file to LightGraphs
function SMAT2LG(pth::String)::LightGraphs.SimpleGraphs.SimpleGraph
    open(pth) do f
        x = readline(f)                                  # typeof(x) String
        vn=split(x)[1]                                   # total vertex number
    #     en=split(x)[3]                                   # total edge number
        vn = parse(Int64,vn)                             # Convert string to Int64
        Ghar=Graph(vn)                                   # New graph

        for i in enumerate(eachline(f))                  # rest of line
            templine=split(i[2])
            add_edge!(Ghar,parse(Int64,templine[1]), parse(Int64,templine[2]))
        end
#         gplot(Ghar,nodelabel=1:nv(Ghar))
        return Ghar
    end
end


@time Ghar=SMAT2LG("/Users/ace/Desktop/harvard500.smat") 
gplot(Ghar)
println(ne(Ghar))                                         # Recheck the data and found out the dataset is a directed graph.
@time EgoSF(Ghar)


### Function that being replaced
# # Get the ego-net
# # println("vertex $v")目前在loop vertex 内部


# nov=inneighbors(G0, 1)                                     # get the neighbors of vertex 1
# println(nov) 
# envn=size(nov,1)                                           #ego-net vertex number
# tempnode=[n for n in 1:envn]                               # 与tempG对应
# tempdict=Dict(tempnode[i] => nov[i] for i =1:envn)             # dict与tempG对应 
# # println("tempdict: $tempdict")

# Gtemp=Graph(envn)
# # gplot(Gtemp, nodelabel=1:nv(Gtemp), edgelabel=1:ne(Gtemp))
# for i = 1:envn
#     tempv = pop!(tempnode)
#     println("tempv: $tempv")
#     tempvv=tempdict[tempv]
#     delete!(tempdict,tempv)
#     println("tempdict: $tempdict") 
#     for j in tempnode
#         if has_edge(G0, tempvv, tempdict[j])
#             add_edge!(Gtemp, tempv, j)
#             println("add_edge!(Gtemp, $tempv, $j)")
#         end
#     end
# end

# gplot(Gtemp, nodelabel=nov, edgelabel=1:ne(Gtemp))
# # println(envn)




